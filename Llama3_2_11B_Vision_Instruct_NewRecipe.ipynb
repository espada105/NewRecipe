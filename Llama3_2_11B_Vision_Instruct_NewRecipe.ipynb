{
  "nbformat": 4,
  "nbformat_minor": 0,
  "metadata": {
    "colab": {
      "provenance": [],
      "authorship_tag": "ABX9TyOrt7lWwKuse7bP30oEmyNj",
      "include_colab_link": true
    },
    "kernelspec": {
      "name": "python3",
      "display_name": "Python 3"
    },
    "language_info": {
      "name": "python"
    }
  },
  "cells": [
    {
      "cell_type": "markdown",
      "metadata": {
        "id": "view-in-github",
        "colab_type": "text"
      },
      "source": [
        "<a href=\"https://colab.research.google.com/github/espada105/NewRecipe/blob/main/Llama3_2_11B_Vision_Instruct_NewRecipe.ipynb\" target=\"_parent\"><img src=\"https://colab.research.google.com/assets/colab-badge.svg\" alt=\"Open In Colab\"/></a>"
      ]
    },
    {
      "cell_type": "code",
      "execution_count": null,
      "metadata": {
        "id": "OXhxKz4NWXsx"
      },
      "outputs": [],
      "source": [
        "pip install transformers datasets accelerate"
      ]
    },
    {
      "cell_type": "code",
      "source": [
        "from transformers import VisionEncoderDecoderModel, Trainer, TrainingArguments\n",
        "from datasets import load_dataset\n",
        "\n",
        "# 모델 불러오기\n",
        "model = VisionEncoderDecoderModel.from_pretrained(\"meta-llama/Llama-3.2-11B-Vision-Instruct\")\n",
        "\n",
        "# 데이터셋 로드\n",
        "dataset = load_dataset(\"path_to_your_ingredient_dataset\")\n",
        "\n",
        "# 이미지와 텍스트 전처리 함수 정의\n",
        "def preprocess(batch):\n",
        "    # 여기에 전처리 코드를 추가하여 batch['image']와 batch['text']를 모델이 수용할 수 있도록 변환합니다\n",
        "    return batch\n",
        "\n",
        "dataset = dataset.map(preprocess)\n",
        "\n",
        "# 학습 설정\n",
        "training_args = TrainingArguments(\n",
        "    output_dir=\"./results\",\n",
        "    per_device_train_batch_size=4,\n",
        "    per_device_eval_batch_size=4,\n",
        "    num_train_epochs=3,\n",
        "    logging_dir=\"./logs\",\n",
        ")\n",
        "\n",
        "# Trainer 생성\n",
        "trainer = Trainer(\n",
        "    model=model,\n",
        "    args=training_args,\n",
        "    train_dataset=dataset[\"train\"],\n",
        "    eval_dataset=dataset[\"test\"]\n",
        ")\n",
        "\n",
        "# 학습 시작\n",
        "trainer.train()\n"
      ],
      "metadata": {
        "id": "_T-_ZbP9XMZs"
      },
      "execution_count": null,
      "outputs": []
    }
  ]
}