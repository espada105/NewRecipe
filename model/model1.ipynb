{
 "cells": [
  {
   "cell_type": "code",
   "execution_count": 6,
   "metadata": {},
   "outputs": [
    {
     "name": "stderr",
     "output_type": "stream",
     "text": [
      "���� ������ �ùٸ��� �ʽ��ϴ�.\n"
     ]
    }
   ],
   "source": [
    "!git clone <https://github.com/facebookresearch/llama.git>"
   ]
  },
  {
   "cell_type": "code",
   "execution_count": 7,
   "metadata": {},
   "outputs": [
    {
     "name": "stdout",
     "output_type": "stream",
     "text": [
      "Obtaining file:///C:/Users/PC/Documents/GitHub/ComputerVision-and-Deep-learning/NewRecipe/model\n"
     ]
    },
    {
     "name": "stderr",
     "output_type": "stream",
     "text": [
      "ERROR: file:///C:/Users/PC/Documents/GitHub/ComputerVision-and-Deep-learning/NewRecipe/model does not appear to be a Python project: neither 'setup.py' nor 'pyproject.toml' found.\n"
     ]
    }
   ],
   "source": [
    "!pip install -e ."
   ]
  },
  {
   "cell_type": "code",
   "execution_count": 8,
   "metadata": {},
   "outputs": [
    {
     "name": "stderr",
     "output_type": "stream",
     "text": [
      "'chmod'��(��) ���� �Ǵ� �ܺ� ����, ������ �� �ִ� ���α׷�, �Ǵ�\n",
      "��ġ ������ �ƴմϴ�.\n",
      "'.'��(��) ���� �Ǵ� �ܺ� ����, ������ �� �ִ� ���α׷�, �Ǵ�\n",
      "��ġ ������ �ƴմϴ�.\n"
     ]
    }
   ],
   "source": [
    "!chmod 755 download.sh\n",
    "!./download.sh"
   ]
  },
  {
   "cell_type": "code",
   "execution_count": 9,
   "metadata": {},
   "outputs": [
    {
     "name": "stderr",
     "output_type": "stream",
     "text": [
      "'wget'��(��) ���� �Ǵ� �ܺ� ����, ������ �� �ִ� ���α׷�, �Ǵ�\n",
      "��ġ ������ �ƴմϴ�.\n"
     ]
    }
   ],
   "source": [
    "!wget -O llama_model.bin \"https://llama3-2-multimodal.llamameta.net/*?Policy=eyJTdGF0ZW1lbnQiOlt7InVuaXF1ZV9oYXNoIjoicnRscGd0eHg3bWdycnBkNWhnaGFpa2UyIiwiUmVzb3VyY2UiOiJodHRwczpcL1wvbGxhbWEzLTItbXVsdGltb2RhbC5sbGFtYW1ldGEubmV0XC8qIiwiQ29uZGl0aW9uIjp7IkRhdGVMZXNzVGhhbiI6eyJBV1M6RXBvY2hUaW1lIjoxNzMxMDcwMjEyfX19XX0_&Signature=Rh-PYYG6dDZXTP-4YReFKCc-g-cY4K-idcws4DIMteR22s0x49IPqFY%7EspEKtqBE50O6vIpX--eXk%7ETlfe6qa0PQut9AuP4cLG2nu1%7EbR0hKq2n4i7h6fWlvMdWcCayLgGVDXxd3hYOOaLwed%7E-q5Jj1qUwq9U9rolZB9Po9SIg2rO%7E0yFSzv3LQrUlXV9d0OMBftdFJaoztRXNifBjo0sSI4g7oGSLB%7Ex14-fNBs%7EhjmSZKxrTpF59zE%7EuB1VYa4bcevS19kK9YLP1PhEVwnss-LNzTpZTkfvdQT4mxQd5eAPoVX4OGRDg5Fhfl3Pg7r0%7EFnqxr4FiTd8OJ6R-wDw__&Key-Pair-Id=K15QRJLYKIFSLZ\""
   ]
  }
 ],
 "metadata": {
  "kernelspec": {
   "display_name": ".venv",
   "language": "python",
   "name": "python3"
  },
  "language_info": {
   "codemirror_mode": {
    "name": "ipython",
    "version": 3
   },
   "file_extension": ".py",
   "mimetype": "text/x-python",
   "name": "python",
   "nbconvert_exporter": "python",
   "pygments_lexer": "ipython3",
   "version": "3.11.1"
  }
 },
 "nbformat": 4,
 "nbformat_minor": 2
}
