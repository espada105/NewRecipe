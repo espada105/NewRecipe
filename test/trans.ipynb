{
 "cells": [
  {
   "cell_type": "code",
   "execution_count": 1,
   "metadata": {},
   "outputs": [
    {
     "name": "stderr",
     "output_type": "stream",
     "text": [
      "c:\\Users\\PC\\Documents\\GitHub\\ComputerVision-and-Deep-learning\\NewRecipe\\.venv\\Lib\\site-packages\\tqdm\\auto.py:21: TqdmWarning: IProgress not found. Please update jupyter and ipywidgets. See https://ipywidgets.readthedocs.io/en/stable/user_install.html\n",
      "  from .autonotebook import tqdm as notebook_tqdm\n"
     ]
    }
   ],
   "source": [
    "import pandas as pd\n",
    "from transformers import AutoModelForSeq2SeqLM, AutoTokenizer\n",
    "import torch\n",
    "from tqdm import tqdm\n"
   ]
  },
  {
   "cell_type": "code",
   "execution_count": 2,
   "metadata": {},
   "outputs": [
    {
     "name": "stdout",
     "output_type": "stream",
     "text": [
      "모델과 토크나이저를 로딩 중...\n"
     ]
    },
    {
     "name": "stderr",
     "output_type": "stream",
     "text": [
      "c:\\Users\\PC\\Documents\\GitHub\\ComputerVision-and-Deep-learning\\NewRecipe\\.venv\\Lib\\site-packages\\huggingface_hub\\file_download.py:139: UserWarning: `huggingface_hub` cache-system uses symlinks by default to efficiently store duplicated files but your machine does not support them in C:\\Users\\PC\\.cache\\huggingface\\hub\\models--facebook--nllb-200-distilled-600M. Caching files will still work but in a degraded version that might require more space on your disk. This warning can be disabled by setting the `HF_HUB_DISABLE_SYMLINKS_WARNING` environment variable. For more details, see https://huggingface.co/docs/huggingface_hub/how-to-cache#limitations.\n",
      "To support symlinks on Windows, you either need to activate Developer Mode or to run Python as an administrator. In order to activate developer mode, see this article: https://docs.microsoft.com/en-us/windows/apps/get-started/enable-your-device-for-development\n",
      "  warnings.warn(message)\n"
     ]
    },
    {
     "name": "stdout",
     "output_type": "stream",
     "text": [
      "사용 중인 디바이스: cpu\n"
     ]
    }
   ],
   "source": [
    "\n",
    "# 모델과 토크나이저 로드\n",
    "print(\"모델과 토크나이저를 로딩 중...\")\n",
    "tokenizer = AutoTokenizer.from_pretrained(\"facebook/nllb-200-distilled-600M\")\n",
    "model = AutoModelForSeq2SeqLM.from_pretrained(\"facebook/nllb-200-distilled-600M\")\n",
    "\n",
    "# GPU 사용 가능 시 GPU 사용\n",
    "device = torch.device(\"cuda\" if torch.cuda.is_available() else \"cpu\")\n",
    "model.to(device)\n",
    "print(f\"사용 중인 디바이스: {device}\")\n"
   ]
  },
  {
   "cell_type": "code",
   "execution_count": 1,
   "metadata": {},
   "outputs": [
    {
     "name": "stdout",
     "output_type": "stream",
     "text": [
      "error\n"
     ]
    }
   ],
   "source": [
    "print(\"error\")"
   ]
  },
  {
   "cell_type": "code",
   "execution_count": null,
   "metadata": {},
   "outputs": [],
   "source": [
    "\n",
    "# 한국어 언어 코드 ID 얻기\n",
    "korean_lang_id = tokenizer.convert_tokens_to_ids(\"kor_Hang\")\n",
    "\n",
    "def translate_text(text):\n",
    "    inputs = tokenizer(text, return_tensors=\"pt\").to(device)\n",
    "    translated_tokens = model.generate(\n",
    "        **inputs,\n",
    "        forced_bos_token_id=korean_lang_id,\n",
    "        max_length=100\n",
    "    )\n",
    "    return tokenizer.batch_decode(translated_tokens, skip_special_tokens=True)[0]\n",
    "\n",
    "# CSV 파일 읽기\n",
    "input_file = \"/content/T1.csv\"  # 입력 파일 이름을 적절히 변경하세요\n",
    "print(f\"{input_file} 파일을 읽는 중...\")\n",
    "df = pd.read_csv(input_file)\n",
    "print(f\"총 {len(df)} 행의 데이터를 읽었습니다.\")\n",
    "\n",
    "# 각 행 번역\n",
    "print(\"번역을 시작합니다...\")\n",
    "translated_rows = []\n",
    "for index, row in tqdm(df.iterrows(), total=len(df), desc=\"번역 진행\"):\n",
    "    translated_row = [translate_text(str(cell)) for cell in row]\n",
    "    translated_rows.append(translated_row)\n",
    "    print(f\"행 {index+1}/{len(df)} 번역 완료\")\n",
    "\n",
    "# 번역된 데이터로 새로운 DataFrame 생성\n",
    "translated_df = pd.DataFrame(translated_rows, columns=df.columns)\n",
    "\n",
    "# 번역된 CSV 파일 저장\n",
    "output_file = \"/content/F1.csv\"  # 출력 파일 이름을 적절히 변경하세요\n",
    "print(f\"번역된 데이터를 {output_file}에 저장 중...\")\n",
    "translated_df.to_csv(output_file, index=False)\n",
    "\n",
    "print(f\"번역이 완료되었습니다. 결과가 {output_file}에 저장되었습니다.\")"
   ]
  }
 ],
 "metadata": {
  "kernelspec": {
   "display_name": ".venv",
   "language": "python",
   "name": "python3"
  },
  "language_info": {
   "codemirror_mode": {
    "name": "ipython",
    "version": 3
   },
   "file_extension": ".py",
   "mimetype": "text/x-python",
   "name": "python",
   "nbconvert_exporter": "python",
   "pygments_lexer": "ipython3",
   "version": "3.11.1"
  }
 },
 "nbformat": 4,
 "nbformat_minor": 2
}
